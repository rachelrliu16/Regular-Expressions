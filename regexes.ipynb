{
 "cells": [
  {
   "cell_type": "markdown",
   "metadata": {},
   "source": [
    "# Regular Expressions\n",
    "\n",
    "Like a good espresso, regular expressions require care and precision to avoid either a watery mess or bitter sludge.\n",
    "\n",
    "We will not have time to cover everything about **regexes** here, but this introduction should help you feel comfortable poking around and using them in your own code."
   ]
  },
  {
   "cell_type": "code",
   "execution_count": 4,
   "metadata": {},
   "outputs": [],
   "source": [
    "sample_text = \"\"\"\n",
    "“Ye kings and warriors! may your vows be crown’d,\n",
    "And Troy’s proud walls lie level with the ground.\n",
    "May Jove restore you when your toils are o’er\n",
    "Safe to the pleasures of your native shore.\n",
    "But, oh! relieve a wretched parent’s pain,\n",
    "And give Chryseïs to these arms again;\n",
    "If mercy fail, yet let my presents move,\n",
    "And dread avenging Phœbus, son of Jove.”\n",
    "\"\"\""
   ]
  },
  {
   "cell_type": "code",
   "execution_count": 5,
   "metadata": {},
   "outputs": [
    {
     "data": {
      "text/plain": [
       "[['Ye', 'kings', 'and', 'warriors', 'may', 'your', 'vows', 'be', 'crown’d'],\n",
       " ['And', 'Troy’s', 'proud', 'walls', 'lie', 'level', 'with', 'the', 'ground'],\n",
       " ['May', 'Jove', 'restore', 'you', 'when', 'your', 'toils', 'are', 'o’er'],\n",
       " ['Safe', 'to', 'the', 'pleasures', 'of', 'your', 'native', 'shore'],\n",
       " ['But', 'oh', 'relieve', 'a', 'wretched', 'parent’s', 'pain'],\n",
       " ['And', 'give', 'Chryseïs', 'to', 'these', 'arms', 'again'],\n",
       " ['If', 'mercy', 'fail', 'yet', 'let', 'my', 'presents', 'move'],\n",
       " ['And', 'dread', 'avenging', 'Phœbus', 'son', 'of', 'Jove']]"
      ]
     },
     "execution_count": 5,
     "metadata": {},
     "output_type": "execute_result"
    }
   ],
   "source": [
    "import re\n",
    "\n",
    "word_regex = re.compile(r\"[\\s\\.,!;”“]+\")\n",
    "\n",
    "lines = [[w for w in word_regex.split(l) if w != \"\"] for l in sample_text.strip().splitlines()]\n",
    "lines"
   ]
  },
  {
   "cell_type": "code",
   "execution_count": 37,
   "metadata": {},
   "outputs": [
    {
     "data": {
      "text/plain": [
       "1"
      ]
     },
     "execution_count": 37,
     "metadata": {},
     "output_type": "execute_result"
    }
   ],
   "source": [
    "n_be = 0\n",
    "for line in lines:\n",
    "   for word in line:\n",
    "       if word == \"be\":\n",
    "           n_be += 1\n",
    "\n",
    "\n",
    "n_be\n"
   ]
  },
  {
   "cell_type": "code",
   "execution_count": 36,
   "metadata": {},
   "outputs": [
    {
     "data": {
      "text/plain": [
       "1"
      ]
     },
     "execution_count": 36,
     "metadata": {},
     "output_type": "execute_result"
    }
   ],
   "source": [
    "n_vows = 0\n",
    "for line in lines:\n",
    "   for word in line:\n",
    "       if word == \"vows\":\n",
    "           n_vows += 1\n",
    "\n",
    "\n",
    "n_vows\n"
   ]
  },
  {
   "cell_type": "code",
   "execution_count": null,
   "metadata": {},
   "outputs": [],
   "source": [
    "n_your = 0\n",
    "for line in lines:\n",
    "   for word in line:\n",
    "       if word == \"your\":\n",
    "           n_your += 1\n",
    "\n",
    "\n",
    "n_your\n"
   ]
  },
  {
   "cell_type": "code",
   "execution_count": 35,
   "metadata": {},
   "outputs": [
    {
     "data": {
      "text/plain": [
       "2"
      ]
     },
     "execution_count": 35,
     "metadata": {},
     "output_type": "execute_result"
    }
   ],
   "source": [
    "n_the = 0\n",
    "for line in lines:\n",
    "   for word in line:\n",
    "       if word == \"the\":\n",
    "           n_the += 1\n",
    "\n",
    "\n",
    "n_the\n"
   ]
  },
  {
   "cell_type": "code",
   "execution_count": 34,
   "metadata": {},
   "outputs": [
    {
     "data": {
      "text/plain": [
       "1"
      ]
     },
     "execution_count": 34,
     "metadata": {},
     "output_type": "execute_result"
    }
   ],
   "source": [
    "n_may = 0\n",
    "for line in lines:\n",
    "   for word in line:\n",
    "       if word == \"may\":\n",
    "           n_may += 1\n",
    "\n",
    "\n",
    "n_may\n"
   ]
  },
  {
   "cell_type": "code",
   "execution_count": 33,
   "metadata": {},
   "outputs": [
    {
     "data": {
      "text/plain": [
       "1"
      ]
     },
     "execution_count": 33,
     "metadata": {},
     "output_type": "execute_result"
    }
   ],
   "source": [
    "n_warriors = 0\n",
    "for line in lines:\n",
    "   for word in line:\n",
    "       if word == \"warriors\":\n",
    "           n_warriors += 1\n",
    "\n",
    "\n",
    "n_warriors\n"
   ]
  },
  {
   "cell_type": "code",
   "execution_count": 32,
   "metadata": {},
   "outputs": [
    {
     "data": {
      "text/plain": [
       "1"
      ]
     },
     "execution_count": 32,
     "metadata": {},
     "output_type": "execute_result"
    }
   ],
   "source": [
    "n_warriors = 0\n",
    "for line in lines:\n",
    "   for word in line:\n",
    "       if word == \"warriors\":\n",
    "           n_warriors += 1\n",
    "\n",
    "\n",
    "n_warriors\n"
   ]
  },
  {
   "cell_type": "code",
   "execution_count": 23,
   "metadata": {},
   "outputs": [
    {
     "data": {
      "text/plain": [
       "1"
      ]
     },
     "execution_count": 23,
     "metadata": {},
     "output_type": "execute_result"
    }
   ],
   "source": [
    "n_ground = 0\n",
    "for line in lines:\n",
    "    for word in line:\n",
    "        if word == \"ground\":\n",
    "            n_ground += 1\n",
    "\n",
    "n_ground\n"
   ]
  },
  {
   "cell_type": "code",
   "execution_count": 26,
   "metadata": {},
   "outputs": [
    {
     "data": {
      "text/plain": [
       "1"
      ]
     },
     "execution_count": 26,
     "metadata": {},
     "output_type": "execute_result"
    }
   ],
   "source": [
    "n_kings = 0\n",
    "for line in lines:\n",
    "   for word in line:\n",
    "       if word == \"kings\":\n",
    "           n_kings += 1\n",
    "\n",
    "\n",
    "n_kings"
   ]
  },
  {
   "cell_type": "code",
   "execution_count": 31,
   "metadata": {},
   "outputs": [
    {
     "data": {
      "text/plain": [
       "1"
      ]
     },
     "execution_count": 31,
     "metadata": {},
     "output_type": "execute_result"
    }
   ],
   "source": [
    "n_and = 0\n",
    "for line in lines:\n",
    "   for word in line:\n",
    "       if word == \"and\":\n",
    "           n_and += 1\n",
    "\n",
    "n_and\n"
   ]
  },
  {
   "cell_type": "markdown",
   "metadata": {},
   "source": [
    "## Homework\n",
    "\n",
    "Using the code above as a guide, get the counts for _every_ word in `sample_text`."
   ]
  },
  {
   "cell_type": "code",
   "execution_count": 25,
   "metadata": {},
   "outputs": [
    {
     "data": {
      "text/plain": [
       "1"
      ]
     },
     "execution_count": 25,
     "metadata": {},
     "output_type": "execute_result"
    }
   ],
   "source": [
    "n_ye = 0\n",
    "for line in lines:\n",
    "   for word in line:\n",
    "       if word == \"Ye\":\n",
    "           n_ye += 1\n",
    "n_ye\n"
   ]
  }
 ],
 "metadata": {
  "kernelspec": {
   "display_name": "Python 3",
   "language": "python",
   "name": "python3"
  },
  "language_info": {
   "codemirror_mode": {
    "name": "ipython",
    "version": 3
   },
   "file_extension": ".py",
   "mimetype": "text/x-python",
   "name": "python",
   "nbconvert_exporter": "python",
   "pygments_lexer": "ipython3",
   "version": "3.12.1"
  }
 },
 "nbformat": 4,
 "nbformat_minor": 2
}
